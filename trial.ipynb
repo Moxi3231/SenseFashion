{
 "cells": [
  {
   "cell_type": "code",
   "execution_count": 41,
   "metadata": {},
   "outputs": [
    {
     "name": "stdout",
     "output_type": "stream",
     "text": [
      "SASSAFRAS\n",
      "Anouk\n"
     ]
    }
   ],
   "source": [
    "from selenium import webdriver\n",
    "from selenium.webdriver.chrome.service import Service as ChromeService\n",
    "from selenium.webdriver.common.by import By\n",
    "from selenium.webdriver.common.keys import Keys\n",
    "from selenium.webdriver.common.action_chains import ActionChains\n",
    "\n",
    "from bs4 import BeautifulSoup\n",
    "import re\n",
    "\n",
    "from datetime import timedelta,datetime\n",
    "\n",
    "from pymongo.mongo_client import MongoClient\n",
    "from pymongo.server_api import ServerApi\n",
    "\n",
    "from urllib.parse import quote_plus\n",
    "\n",
    "import threading\n",
    "\n",
    "def getMongoClient():\n",
    "    uri = \"mongodb+srv://dagulathiya30:\" + \\\n",
    "        quote_plus(\"Darshan@45\") + \\\n",
    "        \"@scrape.8yqpmc0.mongodb.net/?retryWrites=true&w=majority\"\n",
    "    client = MongoClient(uri, server_api=ServerApi('1'))\n",
    "    return client\n",
    "\n",
    "\n",
    "def pressClear(driver):\n",
    "    ac = ActionChains(driver)\n",
    "    ac.send_keys(Keys.TAB * 3 + Keys.ENTER)\n",
    "    ac.perform()\n",
    "    ac = ActionChains(driver)\n",
    "    ac.send_keys(Keys.TAB + Keys.ENTER)\n",
    "    ac.perform()\n",
    "\n",
    "\n",
    "def clearBrowser(driver):\n",
    "    driver.execute_script(\"window.open('')\")\n",
    "    driver.switch_to.window(driver.window_handles[1])\n",
    "    driver.get(\"chrome://settings/?search=clear\")\n",
    "\n",
    "    pressClear(driver)\n",
    "    pressClear(driver)\n",
    "\n",
    "    driver.close()\n",
    "    driver.switch_to.window(driver.window_handles[0])\n",
    "\n",
    "\n",
    "def getLinkHTML(driver, itemlink):\n",
    "\n",
    "    clearBrowser(driver)\n",
    "\n",
    "    driver.execute_script(\"window.open('')\")\n",
    "    driver.switch_to.window(driver.window_handles[1])\n",
    "    driver.get(itemlink)\n",
    "\n",
    "    data = driver.page_source\n",
    "    driver.close()\n",
    "    driver.switch_to.window(driver.window_handles[0])\n",
    "    return BeautifulSoup(data, 'html.parser')\n",
    "\n",
    "\n",
    "def scrapeMyntraNewID(driver, mid_base=\"/dresses?f=Brand%3A\", brand_name=\"SASSAFRAS\"):\n",
    "    base_url = \"https://www.myntra.com\" + mid_base + brand_name + \"&sort=new\"\n",
    "\n",
    "    \n",
    "    driver.get(base_url)\n",
    "    curr_page_html = BeautifulSoup(driver.page_source, 'html.parser')\n",
    "\n",
    "    nextPage = True\n",
    "    mclient = getMongoClient()\n",
    "    pid_mdp = mclient.get_database('Scrape').get_collection(\"BrandProductId\")\n",
    "    \n",
    "    #Delete Older Entries\n",
    "    del_pid = pid_mdp.find({\"date\":{\"$lt\":datetime.today() + timedelta(days=-33)}},{\"_id\":0,\"pid\":1})\n",
    "    del_pid = [row[\"pid\"] for row in list(del_pid)]\n",
    "    pid_mdp.delete_many({\"pid\":{\"$in\":del_pid}})\n",
    "    # Fetch remaining entries\n",
    "    prev_pid = pid_mdp.find({\"site_name\":\"Myntra\",\"brand_name\": brand_name})\n",
    "    if not prev_pid:\n",
    "        prev_pid = []\n",
    "    else:\n",
    "        prev_pid = [row[\"pid\"] for row in prev_pid]\n",
    "        \n",
    "    product_ids = []\n",
    "    while nextPage:\n",
    "        for elem in curr_page_html.find_all(\"li\", {\"class\": \"product-base\"}):\n",
    "            lnk = elem.find('a')['href']\n",
    "            product_id = re.findall(\"[0-9]+\\\\/buy\", lnk)[0][:-4]\n",
    "            if product_id in prev_pid:\n",
    "                nextPage = False\n",
    "                break\n",
    "            product_ids.append(product_id)\n",
    "        \n",
    "        if not nextPage:\n",
    "            break\n",
    "\n",
    "        nextPage = False\n",
    "        next_link = curr_page_html.find(\"li\", {\"class\": \"pagination-next\"})\n",
    "        if next_link:\n",
    "            next_link = next_link.find('a')['href']\n",
    "            nextPage = True\n",
    "\n",
    "            curr_page_html = getLinkHTML(driver, next_link)\n",
    "\n",
    "    ndata = []\n",
    "    for pid in product_ids:\n",
    "        ndata.append({\"site_name\":\"Myntra\",\"brand_name\":brand_name,\"pid\":pid,\"date\":datetime.today()})\n",
    "    if ndata:\n",
    "        pid_mdp.insert_many(ndata)\n",
    "    mclient.close()\n",
    "    return product_ids + prev_pid, del_pid\n",
    "\n",
    "def scrapeMyntra(driver, mid_base=\"/dresses?f=Brand%3A\", brand_name=\"SASSAFRAS\"):\n",
    "    base_url = \"https://www.myntra.com/\"\n",
    "\n",
    "    #get all new ids and ids to delete\n",
    "    pids,del_pids = scrapeMyntraNewID(driver,mid_base=mid_base,brand_name=brand_name)\n",
    "    #print(\"page_done\")\n",
    "    ##############################\n",
    "    if not pids:\n",
    "        return\n",
    "    ##############################\n",
    "    data = []\n",
    "    for pid in pids:\n",
    "        hpg = getLinkHTML(driver,base_url + str(pid))\n",
    "\n",
    "        elem = hpg.find_all(\"div\",{\"id\":\"detailedRatingContainer\"})\n",
    "        if not elem:\n",
    "            continue\n",
    "        \n",
    "        elem = elem[0]\n",
    "        avg = elem.find_all(\"div\",{\"class\":\"index-flexRow index-averageRating\"})[0].find(\"span\").text\n",
    "        cnt = elem.find_all(\"div\",{\"class\":\"index-countDesc\"})[0].text.split(\" \")[0]\n",
    "        \n",
    "\n",
    "        size_detail = hpg.find_all(\"div\",{\"class\":\"size-buttons-size-buttons\"})\n",
    "        size_detail = size_detail[0].find_all(\"div\",{\"class\":\"size-buttons-buttonContainer\"})\n",
    "\n",
    "        size_row = dict()\n",
    "        for btn in size_detail:\n",
    "            btn = btn.find_all(\"button\")[0]\n",
    "            cls_btn = btn[\"class\"][0].lower()\n",
    "            size_name = btn.find_all(\"p\")[0].text\n",
    "\n",
    "            \n",
    "            if \"disabled\" in cls_btn:\n",
    "                size_row[size_name] = \"NA\"\n",
    "            else:\n",
    "                size_row[size_name] = \"AV\"\n",
    "\n",
    "        data.append({\"pid\":pid,\"date\":datetime.today(),\"avg_rating\":avg,\"user_count\":cnt,\"Sizes\":size_row})\n",
    "\n",
    "\n",
    "    #########################\n",
    "    mclient = getMongoClient()\n",
    "    pid_mdp = mclient.get_database('Scrape').get_collection(\"PRD_RT_CNT\")\n",
    "\n",
    "\n",
    "    ###### ---- Delete Products ----- #########\n",
    "    pid_mdp.delete_many({\"pid\":{\"$in\":del_pids}})\n",
    "\n",
    "    pid_mdp.insert_many(data)\n",
    "    mclient.close()\n",
    "    #########################\n",
    "    return\n",
    "\n",
    "\n",
    "\n",
    "def threadStarterMyntra(exe_pth = \"./chromedriver-mac-arm64/\",mid_base=\"/dresses?f=Brand%3A\", brand_name=\"SASSAFRAS\"):\n",
    "\n",
    "    options = webdriver.ChromeOptions()\n",
    "    service = ChromeService(executable_path=exe_pth)\n",
    "    driver = webdriver.Chrome(service=service, options=options)\n",
    "\n",
    "    scrapeMyntra(driver,mid_base=mid_base,brand_name=brand_name)\n",
    "\n",
    "    driver.close()\n",
    "\n",
    "def startScraper(exe_pth = \"./chromedriver-mac-arm64/\"):\n",
    "\n",
    "    brands = [\"SASSAFRAS\",\"Anouk\"]\n",
    "    mid_base=\"/dresses?f=Brand%3A\"\n",
    "    thrds = []\n",
    "    for brd in brands:\n",
    "\n",
    "        t1 = threading.Thread(target=threadStarterMyntra,args=(),kwargs={\"exe_pth\":exe_pth,\"mid_base\":mid_base,\"brand_name\":brd})\n",
    "        thrds.append(t1)\n",
    "\n",
    "    for t in thrds:\n",
    "        t.start()\n",
    "    for t in thrds:\n",
    "        t.join()        \n",
    "    return\n",
    "\n",
    "startScraper()"
   ]
  },
  {
   "cell_type": "code",
   "execution_count": null,
   "metadata": {},
   "outputs": [],
   "source": [
    "import datetime\n",
    "datetime.date.today()"
   ]
  },
  {
   "cell_type": "code",
   "execution_count": 26,
   "metadata": {},
   "outputs": [
    {
     "name": "stdout",
     "output_type": "stream",
     "text": [
      "Pinged your deployment. You successfully connected to MongoDB!\n"
     ]
    }
   ],
   "source": [
    "\n",
    "from pymongo.mongo_client import MongoClient\n",
    "from pymongo.server_api import ServerApi\n",
    "\n",
    "from urllib.parse import quote_plus\n",
    "\n",
    "uri = \"mongodb+srv://dagulathiya30:\"+ quote_plus(\"Darshan@45\") + \"@scrape.8yqpmc0.mongodb.net/?retryWrites=true&w=majority\"\n",
    "client = MongoClient(uri, server_api=ServerApi('1'))\n",
    "\n",
    "try:\n",
    "    client.admin.command('ping')\n",
    "    print(\"Pinged your deployment. You successfully connected to MongoDB!\")\n",
    "except Exception as e:\n",
    "    print(e)"
   ]
  },
  {
   "cell_type": "code",
   "execution_count": 40,
   "metadata": {},
   "outputs": [
    {
     "name": "stdout",
     "output_type": "stream",
     "text": [
      "0\n"
     ]
    }
   ],
   "source": [
    "dbp = client.get_database('Scrape').get_collection(\"BrandProductId\")\n",
    "cnt = 0\n",
    "for row in dbp.find({}):\n",
    "    cnt += 1\n",
    "print(cnt)"
   ]
  },
  {
   "cell_type": "code",
   "execution_count": 39,
   "metadata": {},
   "outputs": [
    {
     "data": {
      "text/plain": [
       "<pymongo.results.DeleteResult at 0x11914feb0>"
      ]
     },
     "execution_count": 39,
     "metadata": {},
     "output_type": "execute_result"
    }
   ],
   "source": [
    "dbp.delete_many({})"
   ]
  },
  {
   "cell_type": "code",
   "execution_count": 5,
   "metadata": {},
   "outputs": [
    {
     "ename": "AttributeError",
     "evalue": "module 'http' has no attribute 'cookies'",
     "output_type": "error",
     "traceback": [
      "\u001b[0;31m---------------------------------------------------------------------------\u001b[0m",
      "\u001b[0;31mAttributeError\u001b[0m                            Traceback (most recent call last)",
      "Cell \u001b[0;32mIn[5], line 2\u001b[0m\n\u001b[1;32m      1\u001b[0m \u001b[39mimport\u001b[39;00m \u001b[39mhttp\u001b[39;00m\n\u001b[0;32m----> 2\u001b[0m http\u001b[39m.\u001b[39;49mcookies\n",
      "\u001b[0;31mAttributeError\u001b[0m: module 'http' has no attribute 'cookies'"
     ]
    }
   ],
   "source": [
    "import http\n"
   ]
  },
  {
   "cell_type": "code",
   "execution_count": 23,
   "metadata": {},
   "outputs": [
    {
     "name": "stdout",
     "output_type": "stream",
     "text": [
      "705\n"
     ]
    }
   ],
   "source": [
    "ddp = client.get_database('Scrape').get_collection(\"PRD_RT_CNT\")\n",
    "print(len(list(ddp.find({}))))"
   ]
  }
 ],
 "metadata": {
  "kernelspec": {
   "display_name": "base",
   "language": "python",
   "name": "python3"
  },
  "language_info": {
   "codemirror_mode": {
    "name": "ipython",
    "version": 3
   },
   "file_extension": ".py",
   "mimetype": "text/x-python",
   "name": "python",
   "nbconvert_exporter": "python",
   "pygments_lexer": "ipython3",
   "version": "3.10.10"
  },
  "orig_nbformat": 4
 },
 "nbformat": 4,
 "nbformat_minor": 2
}
