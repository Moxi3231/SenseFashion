{
 "cells": [
  {
   "cell_type": "code",
   "execution_count": 34,
   "metadata": {},
   "outputs": [
    {
     "name": "stdout",
     "output_type": "stream",
     "text": [
      "page_done\n",
      "page_done\n",
      "{'pid': '23545158', 'date': datetime.datetime(2023, 8, 19, 14, 5, 26, 752020), 'avg_rating': '5', 'user_count': '3', 'Sizes': {'XS': 'AV', 'S': 'AV', 'M': 'AV', 'L': 'AV', 'XL': 'AV', 'XXL': 'AV'}}\n"
     ]
    },
    {
     "name": "stderr",
     "output_type": "stream",
     "text": [
      "Exception in thread Thread-39 (threadStarterMyntra):\n",
      "Traceback (most recent call last):\n",
      "  File \"/Users/moxi/anaconda3/lib/python3.10/threading.py\", line 1016, in _bootstrap_inner\n",
      "    self.run()\n",
      "  File \"/Users/moxi/anaconda3/lib/python3.10/threading.py\", line 953, in run\n",
      "    self._target(*self._args, **self._kwargs)\n",
      "  File \"/var/folders/1q/kwcn_2fj7pd29fkyv6kgy8xm0000gn/T/ipykernel_71613/706253730.py\", line 184, in threadStarterMyntra\n",
      "  File \"/var/folders/1q/kwcn_2fj7pd29fkyv6kgy8xm0000gn/T/ipykernel_71613/706253730.py\", line 124, in scrapeMyntra\n",
      "  File \"/var/folders/1q/kwcn_2fj7pd29fkyv6kgy8xm0000gn/T/ipykernel_71613/706253730.py\", line 55, in getLinkHTML\n",
      "  File \"/Users/moxi/anaconda3/lib/python3.10/site-packages/selenium/webdriver/remote/webdriver.py\", line 447, in page_source\n",
      "    return self.execute(Command.GET_PAGE_SOURCE)[\"value\"]\n",
      "  File \"/Users/moxi/anaconda3/lib/python3.10/site-packages/selenium/webdriver/remote/webdriver.py\", line 346, in execute\n",
      "    self.error_handler.check_response(response)\n",
      "  File \"/Users/moxi/anaconda3/lib/python3.10/site-packages/selenium/webdriver/remote/errorhandler.py\", line 245, in check_response\n",
      "    raise exception_class(message, screen, stacktrace)\n",
      "selenium.common.exceptions.NoSuchWindowException: Message: no such window: target window already closed\n",
      "from unknown error: web view not found\n",
      "  (Session info: chrome=116.0.5845.96)\n",
      "Stacktrace:\n",
      "0   chromedriver                        0x00000001032a265c chromedriver + 4318812\n",
      "1   chromedriver                        0x000000010329ad00 chromedriver + 4287744\n",
      "2   chromedriver                        0x0000000102ecc7ec chromedriver + 296940\n",
      "3   chromedriver                        0x0000000102ea46e4 chromedriver + 132836\n",
      "4   chromedriver                        0x0000000102f2fde4 chromedriver + 703972\n",
      "5   chromedriver                        0x0000000102f425b8 chromedriver + 779704\n",
      "6   chromedriver                        0x0000000102efe178 chromedriver + 500088\n",
      "7   chromedriver                        0x0000000102efefc0 chromedriver + 503744\n",
      "8   chromedriver                        0x0000000103262c40 chromedriver + 4058176\n",
      "9   chromedriver                        0x0000000103267160 chromedriver + 4075872\n",
      "10  chromedriver                        0x000000010322ae68 chromedriver + 3829352\n",
      "11  chromedriver                        0x0000000103267c4c chromedriver + 4078668\n",
      "12  chromedriver                        0x000000010323ff08 chromedriver + 3915528\n",
      "13  chromedriver                        0x0000000103284140 chromedriver + 4194624\n",
      "14  chromedriver                        0x00000001032842c4 chromedriver + 4195012\n",
      "15  chromedriver                        0x00000001032944d0 chromedriver + 4261072\n",
      "16  libsystem_pthread.dylib             0x0000000191197034 _pthread_start + 136\n",
      "17  libsystem_pthread.dylib             0x0000000191191e3c thread_start + 8\n",
      "\n"
     ]
    },
    {
     "name": "stdout",
     "output_type": "stream",
     "text": [
      "{'pid': '23545354', 'date': datetime.datetime(2023, 8, 19, 14, 5, 34, 507248), 'avg_rating': '4.1', 'user_count': '10', 'Sizes': {'XS': 'AV', 'S': 'AV', 'M': 'AV', 'L': 'AV', 'XL': 'NA', 'XXL': 'NA'}}\n"
     ]
    },
    {
     "name": "stderr",
     "output_type": "stream",
     "text": [
      "Exception in thread Thread-40 (threadStarterMyntra):\n",
      "Traceback (most recent call last):\n",
      "  File \"/Users/moxi/anaconda3/lib/python3.10/threading.py\", line 1016, in _bootstrap_inner\n",
      "    self.run()\n",
      "  File \"/Users/moxi/anaconda3/lib/python3.10/threading.py\", line 953, in run\n",
      "    self._target(*self._args, **self._kwargs)\n",
      "  File \"/var/folders/1q/kwcn_2fj7pd29fkyv6kgy8xm0000gn/T/ipykernel_71613/706253730.py\", line 184, in threadStarterMyntra\n",
      "  File \"/var/folders/1q/kwcn_2fj7pd29fkyv6kgy8xm0000gn/T/ipykernel_71613/706253730.py\", line 124, in scrapeMyntra\n",
      "  File \"/var/folders/1q/kwcn_2fj7pd29fkyv6kgy8xm0000gn/T/ipykernel_71613/706253730.py\", line 55, in getLinkHTML\n",
      "  File \"/Users/moxi/anaconda3/lib/python3.10/site-packages/selenium/webdriver/remote/webdriver.py\", line 447, in page_source\n",
      "    return self.execute(Command.GET_PAGE_SOURCE)[\"value\"]\n",
      "  File \"/Users/moxi/anaconda3/lib/python3.10/site-packages/selenium/webdriver/remote/webdriver.py\", line 346, in execute\n",
      "    self.error_handler.check_response(response)\n",
      "  File \"/Users/moxi/anaconda3/lib/python3.10/site-packages/selenium/webdriver/remote/errorhandler.py\", line 245, in check_response\n",
      "    raise exception_class(message, screen, stacktrace)\n",
      "selenium.common.exceptions.NoSuchWindowException: Message: no such window: target window already closed\n",
      "from unknown error: web view not found\n",
      "  (Session info: chrome=116.0.5845.96)\n",
      "Stacktrace:\n",
      "0   chromedriver                        0x0000000100f6665c chromedriver + 4318812\n",
      "1   chromedriver                        0x0000000100f5ed00 chromedriver + 4287744\n",
      "2   chromedriver                        0x0000000100b907ec chromedriver + 296940\n",
      "3   chromedriver                        0x0000000100b686e4 chromedriver + 132836\n",
      "4   chromedriver                        0x0000000100bf3de4 chromedriver + 703972\n",
      "5   chromedriver                        0x0000000100c065b8 chromedriver + 779704\n",
      "6   chromedriver                        0x0000000100bc2178 chromedriver + 500088\n",
      "7   chromedriver                        0x0000000100bc2fc0 chromedriver + 503744\n",
      "8   chromedriver                        0x0000000100f26c40 chromedriver + 4058176\n",
      "9   chromedriver                        0x0000000100f2b160 chromedriver + 4075872\n",
      "10  chromedriver                        0x0000000100eeee68 chromedriver + 3829352\n",
      "11  chromedriver                        0x0000000100f2bc4c chromedriver + 4078668\n",
      "12  chromedriver                        0x0000000100f03f08 chromedriver + 3915528\n",
      "13  chromedriver                        0x0000000100f48140 chromedriver + 4194624\n",
      "14  chromedriver                        0x0000000100f482c4 chromedriver + 4195012\n",
      "15  chromedriver                        0x0000000100f584d0 chromedriver + 4261072\n",
      "16  libsystem_pthread.dylib             0x0000000191197034 _pthread_start + 136\n",
      "17  libsystem_pthread.dylib             0x0000000191191e3c thread_start + 8\n",
      "\n"
     ]
    }
   ],
   "source": [
    "from selenium import webdriver\n",
    "from selenium.webdriver.chrome.service import Service as ChromeService\n",
    "from selenium.webdriver.common.by import By\n",
    "from selenium.webdriver.common.keys import Keys\n",
    "from selenium.webdriver.common.action_chains import ActionChains\n",
    "\n",
    "from webdriver_manager.chrome import ChromeDriverManager\n",
    "from bs4 import BeautifulSoup\n",
    "import re\n",
    "\n",
    "from datetime import timedelta,datetime\n",
    "\n",
    "from pymongo.mongo_client import MongoClient\n",
    "from pymongo.server_api import ServerApi\n",
    "\n",
    "from urllib.parse import quote_plus\n",
    "\n",
    "import threading\n",
    "\n",
    "def getMongoClient():\n",
    "    uri = \"mongodb+srv://dagulathiya30:\" + \\\n",
    "        quote_plus(\"Darshan@45\") + \\\n",
    "        \"@scrape.8yqpmc0.mongodb.net/?retryWrites=true&w=majority\"\n",
    "    client = MongoClient(uri, server_api=ServerApi('1'))\n",
    "    return client\n",
    "\n",
    "\n",
    "def pressClear(driver):\n",
    "    ac = ActionChains(driver)\n",
    "    ac.send_keys(Keys.TAB * 3 + Keys.ENTER)\n",
    "    ac.perform()\n",
    "    ac = ActionChains(driver)\n",
    "    ac.send_keys(Keys.TAB + Keys.ENTER)\n",
    "    ac.perform()\n",
    "\n",
    "\n",
    "def clearBrowser(driver):\n",
    "    driver.switch_to.window(driver.window_handles[0])\n",
    "    driver.get(\"chrome://settings/?search=clear\")\n",
    "\n",
    "    pressClear(driver)\n",
    "    pressClear(driver)\n",
    "\n",
    "    driver.switch_to.window(driver.window_handles[1])\n",
    "\n",
    "\n",
    "def getLinkHTML(driver, itemlink):\n",
    "\n",
    "    clearBrowser(driver)\n",
    "\n",
    "    driver.execute_script(\"window.open('')\")\n",
    "    driver.switch_to.window(driver.window_handles[2])\n",
    "    driver.get(itemlink)\n",
    "\n",
    "    data = driver.page_source\n",
    "    driver.close()\n",
    "    driver.switch_to.window(driver.window_handles[1])\n",
    "    return BeautifulSoup(data, 'html.parser')\n",
    "\n",
    "\n",
    "def scrapeMyntraNewID(driver, mid_base=\"/dresses?f=Brand%3A\", brand_name=\"SASSAFRAS\"):\n",
    "    base_url = \"https://www.myntra.com\" + mid_base + brand_name + \"&sort=new\"\n",
    "\n",
    "    driver.switch_to.window(driver.window_handles[1])\n",
    "    driver.get(base_url)\n",
    "    curr_page_html = BeautifulSoup(driver.page_source, 'html.parser')\n",
    "\n",
    "    nextPage = True\n",
    "    mclient = getMongoClient()\n",
    "    pid_mdp = mclient.get_database('Scrape').get_collection(\"BrandProductId\")\n",
    "    \n",
    "    #Delete Older Entries\n",
    "    del_pid = pid_mdp.find({\"date\":{\"$lt\":datetime.today() + timedelta(days=-33)}},{\"_id\":0,\"pid\":1})\n",
    "    del_pid = [row[\"pid\"] for row in list(del_pid)]\n",
    "    pid_mdp.delete_many({\"pid\":{\"$in\":del_pid}})\n",
    "    # Fetch remaining entries\n",
    "    prev_pid = pid_mdp.find({\"site_name\":\"Myntra\",\"brand_name\": brand_name})\n",
    "    if not prev_pid:\n",
    "        prev_pid = []\n",
    "    else:\n",
    "        prev_pid = [row[\"pid\"] for row in prev_pid]\n",
    "        \n",
    "    product_ids = []\n",
    "    while nextPage:\n",
    "        for elem in curr_page_html.find_all(\"li\", {\"class\": \"product-base\"}):\n",
    "            lnk = elem.find('a')['href']\n",
    "            product_id = re.findall(\"[0-9]+\\\\/buy\", lnk)[0][:-4]\n",
    "            if product_id in prev_pid:\n",
    "                nextPage = False\n",
    "                break\n",
    "            product_ids.append(product_id)\n",
    "        \n",
    "        if not nextPage:\n",
    "            break\n",
    "\n",
    "        nextPage = False\n",
    "        next_link = curr_page_html.find(\"li\", {\"class\": \"pagination-next\"})\n",
    "        if next_link:\n",
    "            next_link = next_link.find('a')['href']\n",
    "            nextPage = True\n",
    "\n",
    "            curr_page_html = getLinkHTML(driver, next_link)\n",
    "\n",
    "    ndata = []\n",
    "    for pid in set(product_ids):\n",
    "        ndata.append({\"site_name\":\"Myntra\",\"brand_name\":brand_name,\"pid\":pid,\"date\":datetime.today()})\n",
    "    if ndata:\n",
    "        pid_mdp.insert_many(ndata)\n",
    "    mclient.close()\n",
    "    return product_ids + prev_pid, del_pid\n",
    "\n",
    "def scrapeMyntra(driver, mid_base=\"/dresses?f=Brand%3A\", brand_name=\"SASSAFRAS\"):\n",
    "    base_url = \"https://www.myntra.com/\"\n",
    "\n",
    "    #get all new ids and ids to delete\n",
    "    pids,del_pids = scrapeMyntraNewID(driver,mid_base=mid_base,brand_name=brand_name)\n",
    "    print(\"page_done\")\n",
    "    ##############################\n",
    "    if not pids:\n",
    "        return\n",
    "    ##############################\n",
    "    data = []\n",
    "    for pid in pids:\n",
    "        hpg = getLinkHTML(driver,base_url + str(pid))\n",
    "\n",
    "        elem = hpg.find_all(\"div\",{\"id\":\"detailedRatingContainer\"})\n",
    "        if not elem:\n",
    "            continue\n",
    "        \n",
    "        elem = elem[0]\n",
    "        avg = elem.find_all(\"div\",{\"class\":\"index-flexRow index-averageRating\"})[0].find(\"span\").text\n",
    "        cnt = elem.find_all(\"div\",{\"class\":\"index-countDesc\"})[0].text.split(\" \")[0]\n",
    "        \n",
    "        sp = hpg.find(\"span\",{\"class\":\"pdp-price\"})\n",
    "        if sp:\n",
    "            sp = sp.text[1:]\n",
    "\n",
    "\n",
    "        size_detail = hpg.find_all(\"div\",{\"class\":\"size-buttons-size-buttons\"})\n",
    "        size_detail = size_detail[0].find_all(\"div\",{\"class\":\"size-buttons-buttonContainer\"})\n",
    "\n",
    "        size_row = dict()\n",
    "        for btn in size_detail:\n",
    "            btn = btn.find_all(\"button\")[0]\n",
    "            cls_btn = btn[\"class\"][0].lower()\n",
    "            size_name = btn.find_all(\"p\")[0].text\n",
    "\n",
    "            \n",
    "            if \"disabled\" in cls_btn:\n",
    "                size_row[size_name] = \"NA\"\n",
    "            else:\n",
    "                size_row[size_name] = \"AV\"\n",
    "        print({\"pid\":pid,\"date\":datetime.today(),\"avg_rating\":avg,\"user_count\":cnt,\"Sizes\":size_row})\n",
    "        data.append({\"pid\":pid,\"date\":datetime.today(),\"avg_rating\":avg,\"user_count\":cnt,\"Sizes\":size_row})\n",
    "        \n",
    "\n",
    "    #########################\n",
    "    mclient = getMongoClient()\n",
    "    pid_mdp = mclient.get_database('Scrape').get_collection(\"PRD_RT_CNT\")\n",
    "\n",
    "\n",
    "    ###### ---- Delete Products ----- #########\n",
    "    pid_mdp.delete_many({\"pid\":{\"$in\":del_pids}})\n",
    "\n",
    "    pid_mdp.insert_many(data)\n",
    "    mclient.close()\n",
    "    #########################\n",
    "    return\n",
    "\n",
    "\n",
    "\n",
    "def threadStarterMyntra(exe_pth = \"./chromedriver-mac-arm64\",mid_base=\"/dresses?f=Brand%3A\", brand_name=\"SASSAFRAS\"):\n",
    "\n",
    "    options = webdriver.ChromeOptions()\n",
    "    service = ChromeService(executable_path=exe_pth)\n",
    "    #service = ChromeService(ChromeDriverManager().install())\n",
    "\n",
    "    driver = webdriver.Chrome(service=service, options=options)\n",
    "    \n",
    "    driver.get(\"chrome://settings/?search=clear\")\n",
    "    driver.execute_script(\"window.open('')\")\n",
    "    driver.switch_to.window(driver.window_handles[1])\n",
    "\n",
    "    scrapeMyntra(driver,mid_base=mid_base,brand_name=brand_name)\n",
    "\n",
    "    driver.close()\n",
    "\n",
    "def startScraper(exe_pth = \"./chromedriver-mac-arm64/chromedriver\"):\n",
    "\n",
    "    brands = [\"SASSAFRAS\",\"Anouk\"]\n",
    "    mid_base=\"/dresses?f=Brand%3A\"\n",
    "    thrds = []\n",
    "    for brd in brands:\n",
    "\n",
    "        t1 = threading.Thread(target=threadStarterMyntra,args=(),kwargs={\"exe_pth\":exe_pth,\"mid_base\":mid_base,\"brand_name\":brd})\n",
    "        thrds.append(t1)\n",
    "        \n",
    "\n",
    "    for t in thrds:\n",
    "        t.start()\n",
    "    for t in thrds:\n",
    "        t.join()        \n",
    "    return\n",
    "\n",
    "startScraper()"
   ]
  },
  {
   "cell_type": "code",
   "execution_count": null,
   "metadata": {},
   "outputs": [],
   "source": [
    "import datetime\n",
    "datetime.date.today()"
   ]
  },
  {
   "cell_type": "code",
   "execution_count": 26,
   "metadata": {},
   "outputs": [
    {
     "name": "stdout",
     "output_type": "stream",
     "text": [
      "Pinged your deployment. You successfully connected to MongoDB!\n"
     ]
    }
   ],
   "source": [
    "\n",
    "from pymongo.mongo_client import MongoClient\n",
    "from pymongo.server_api import ServerApi\n",
    "\n",
    "from urllib.parse import quote_plus\n",
    "\n",
    "uri = \"mongodb+srv://dagulathiya30:\"+ quote_plus(\"Darshan@45\") + \"@scrape.8yqpmc0.mongodb.net/?retryWrites=true&w=majority\"\n",
    "client = MongoClient(uri, server_api=ServerApi('1'))\n",
    "\n",
    "try:\n",
    "    client.admin.command('ping')\n",
    "    print(\"Pinged your deployment. You successfully connected to MongoDB!\")\n",
    "except Exception as e:\n",
    "    print(e)"
   ]
  },
  {
   "cell_type": "code",
   "execution_count": 40,
   "metadata": {},
   "outputs": [
    {
     "name": "stdout",
     "output_type": "stream",
     "text": [
      "0\n"
     ]
    }
   ],
   "source": [
    "dbp = client.get_database('Scrape').get_collection(\"BrandProductId\")\n",
    "cnt = 0\n",
    "for row in dbp.find({}):\n",
    "    cnt += 1\n",
    "print(cnt)"
   ]
  },
  {
   "cell_type": "code",
   "execution_count": 39,
   "metadata": {},
   "outputs": [
    {
     "data": {
      "text/plain": [
       "<pymongo.results.DeleteResult at 0x11914feb0>"
      ]
     },
     "execution_count": 39,
     "metadata": {},
     "output_type": "execute_result"
    }
   ],
   "source": [
    "dbp.delete_many({})"
   ]
  },
  {
   "cell_type": "code",
   "execution_count": 5,
   "metadata": {},
   "outputs": [
    {
     "ename": "AttributeError",
     "evalue": "module 'http' has no attribute 'cookies'",
     "output_type": "error",
     "traceback": [
      "\u001b[0;31m---------------------------------------------------------------------------\u001b[0m",
      "\u001b[0;31mAttributeError\u001b[0m                            Traceback (most recent call last)",
      "Cell \u001b[0;32mIn[5], line 2\u001b[0m\n\u001b[1;32m      1\u001b[0m \u001b[39mimport\u001b[39;00m \u001b[39mhttp\u001b[39;00m\n\u001b[0;32m----> 2\u001b[0m http\u001b[39m.\u001b[39;49mcookies\n",
      "\u001b[0;31mAttributeError\u001b[0m: module 'http' has no attribute 'cookies'"
     ]
    }
   ],
   "source": [
    "import http\n"
   ]
  },
  {
   "cell_type": "code",
   "execution_count": 23,
   "metadata": {},
   "outputs": [
    {
     "name": "stdout",
     "output_type": "stream",
     "text": [
      "705\n"
     ]
    }
   ],
   "source": [
    "ddp = client.get_database('Scrape').get_collection(\"PRD_RT_CNT\")\n",
    "print(len(list(ddp.find({}))))"
   ]
  },
  {
   "cell_type": "code",
   "execution_count": null,
   "metadata": {},
   "outputs": [],
   "source": []
  },
  {
   "cell_type": "code",
   "execution_count": null,
   "metadata": {},
   "outputs": [],
   "source": []
  },
  {
   "cell_type": "code",
   "execution_count": null,
   "metadata": {},
   "outputs": [],
   "source": []
  },
  {
   "cell_type": "code",
   "execution_count": null,
   "metadata": {},
   "outputs": [],
   "source": []
  },
  {
   "cell_type": "code",
   "execution_count": null,
   "metadata": {},
   "outputs": [],
   "source": [
    "import sys\n",
    "a,b,c,d = [[] for _ in range(4)]\n",
    "\n",
    "for line in input():\n",
    "    line = list(map(float,line.split(\"\")))\n",
    "\n",
    "    a.append(line[0])\n",
    "    b.append(line[1])\n",
    "    c.append(line[])"
   ]
  },
  {
   "cell_type": "code",
   "execution_count": null,
   "metadata": {},
   "outputs": [],
   "source": []
  },
  {
   "cell_type": "code",
   "execution_count": 13,
   "metadata": {},
   "outputs": [
    {
     "name": "stdout",
     "output_type": "stream",
     "text": [
      "Expected Output: True Outcome True\n",
      "Expected Output: False Outcome False\n",
      "Expected Output: False Outcome False\n",
      "Expected Output: True Outcome True\n",
      "Expected Output: False Outcome False\n",
      "Expected Output: True Outcome True\n"
     ]
    }
   ],
   "source": []
  },
  {
   "cell_type": "code",
   "execution_count": null,
   "metadata": {},
   "outputs": [],
   "source": []
  }
 ],
 "metadata": {
  "kernelspec": {
   "display_name": "base",
   "language": "python",
   "name": "python3"
  },
  "language_info": {
   "codemirror_mode": {
    "name": "ipython",
    "version": 3
   },
   "file_extension": ".py",
   "mimetype": "text/x-python",
   "name": "python",
   "nbconvert_exporter": "python",
   "pygments_lexer": "ipython3",
   "version": "3.10.10"
  },
  "orig_nbformat": 4
 },
 "nbformat": 4,
 "nbformat_minor": 2
}
